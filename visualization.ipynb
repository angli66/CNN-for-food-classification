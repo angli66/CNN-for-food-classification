{
 "cells": [
  {
   "cell_type": "markdown",
   "metadata": {},
   "source": [
    "# Visualization"
   ]
  },
  {
   "cell_type": "code",
   "execution_count": null,
   "metadata": {},
   "outputs": [],
   "source": [
    "import pickle\n",
    "import numpy as np\n",
    "import matplotlib.pyplot as plt\n",
    "\n",
    "path = './results.pkl'\n",
    "\n",
    "with open(path, 'rb') as handle:\n",
    "    data = pickle.load(handle)"
   ]
  },
  {
   "cell_type": "markdown",
   "metadata": {},
   "source": [
    "## Accuracy v.s. Epoch"
   ]
  },
  {
   "cell_type": "code",
   "execution_count": null,
   "metadata": {},
   "outputs": [],
   "source": [
    "plt.title(f'Accuracy against Epoch')\n",
    "plt.xlabel('Epoch')\n",
    "plt.ylabel('Accuracy')\n",
    "plt.plot(data['train_acc'], label = 'train')\n",
    "plt.plot(data['val_acc'], label = 'validation')\n",
    "plt.legend()"
   ]
  },
  {
   "cell_type": "markdown",
   "metadata": {},
   "source": [
    "# Loss v.s. Epoch"
   ]
  },
  {
   "cell_type": "code",
   "execution_count": null,
   "metadata": {},
   "outputs": [],
   "source": [
    "plt.title(f'Loss against Epoch')\n",
    "plt.xlabel('Epoch')\n",
    "plt.ylabel('Loss')\n",
    "plt.plot(data['train_loss'], label = 'train')\n",
    "plt.plot(data['val_loss'], label = 'validation')\n",
    "plt.legend()"
   ]
  },
  {
   "cell_type": "markdown",
   "metadata": {},
   "source": [
    "# Performance on Test Set"
   ]
  },
  {
   "cell_type": "code",
   "execution_count": null,
   "metadata": {},
   "outputs": [],
   "source": [
    "print(\"Test Loss:\", data['test_loss'])\n",
    "print(\"Test Accuracy:\", data['test_acc'])"
   ]
  },
  {
   "cell_type": "markdown",
   "metadata": {},
   "source": [
    "# Weight Maps Visualization"
   ]
  },
  {
   "cell_type": "code",
   "execution_count": null,
   "metadata": {},
   "outputs": [],
   "source": [
    "import model\n",
    "import numpy as np\n",
    "import matplotlib.pyplot as plt\n",
    "import torch\n",
    "\n",
    "# Example visualization of resnet 18\n",
    "args = {'model': 'resnet18', 'pt_ft': '0'} # Change resnet18 to visualize other architectures\n",
    "model = model.get_model(args)\n",
    "model.load_state_dict(torch.load(\"checkpoint.pt\"))\n",
    "\n",
    "first_layer = next(model.parameters())\n",
    "print(first_layer.shape)"
   ]
  },
  {
   "cell_type": "code",
   "execution_count": null,
   "metadata": {},
   "outputs": [],
   "source": [
    "# First channel\n",
    "fig = plt.figure(figsize=(20, 20))\n",
    "row = 8\n",
    "col = 8\n",
    "for i in range(first_layer.shape[0]):\n",
    "    weights = first_layer[i][0]\n",
    "    ax = fig.add_subplot(row, col, i+1)\n",
    "    ax.title.set_text(f'kernel {i}')\n",
    "    plt.imshow(weights.detach())\n",
    "plt.suptitle(\"First Channel\")\n",
    "plt.tight_layout()\n",
    "plt.show()"
   ]
  },
  {
   "cell_type": "code",
   "execution_count": null,
   "metadata": {},
   "outputs": [],
   "source": [
    "# Second channel\n",
    "fig = plt.figure(figsize=(20, 20))\n",
    "row = 8\n",
    "col = 8\n",
    "for i in range(first_layer.shape[0]):\n",
    "    weights = first_layer[i][1]\n",
    "    ax = fig.add_subplot(row, col, i+1)\n",
    "    ax.title.set_text(f'kernel {i}')\n",
    "    plt.imshow(weights.detach())\n",
    "plt.suptitle(\"Second Channel\")\n",
    "plt.tight_layout()\n",
    "plt.show()"
   ]
  },
  {
   "cell_type": "code",
   "execution_count": null,
   "metadata": {},
   "outputs": [],
   "source": [
    "# Third channel\n",
    "fig = plt.figure(figsize=(20, 20))\n",
    "row = 8\n",
    "col = 8\n",
    "for i in range(first_layer.shape[0]):\n",
    "    weights = first_layer[i][2]\n",
    "    ax = fig.add_subplot(row, col, i+1)\n",
    "    ax.title.set_text(f'kernel {i}')\n",
    "    plt.imshow(weights.detach())\n",
    "plt.suptitle(\"Third Channel\")\n",
    "plt.tight_layout()\n",
    "plt.show()"
   ]
  }
 ],
 "metadata": {
  "interpreter": {
   "hash": "411f019aab5b57746ceaa2e5d0d6c652845266f2f06955a37d51ad6fe7688690"
  },
  "kernelspec": {
   "display_name": "Python 3.9.7 ('base')",
   "language": "python",
   "name": "python3"
  },
  "language_info": {
   "codemirror_mode": {
    "name": "ipython",
    "version": 3
   },
   "file_extension": ".py",
   "mimetype": "text/x-python",
   "name": "python",
   "nbconvert_exporter": "python",
   "pygments_lexer": "ipython3",
   "version": "3.8.12"
  },
  "orig_nbformat": 4
 },
 "nbformat": 4,
 "nbformat_minor": 2
}
